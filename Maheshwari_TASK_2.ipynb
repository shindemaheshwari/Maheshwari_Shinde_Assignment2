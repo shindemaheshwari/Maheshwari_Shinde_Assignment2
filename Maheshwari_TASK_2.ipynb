{
  "nbformat": 4,
  "nbformat_minor": 0,
  "metadata": {
    "colab": {
      "name": "Maheshwari_TASK 2.ipynb",
      "provenance": [],
      "collapsed_sections": []
    },
    "kernelspec": {
      "name": "python3",
      "display_name": "Python 3"
    },
    "language_info": {
      "name": "python"
    }
  },
  "cells": [
    {
      "cell_type": "markdown",
      "source": [
        "**Assingment Operators:**"
      ],
      "metadata": {
        "id": "w0KgYN9yZtrH"
      }
    },
    {
      "cell_type": "code",
      "execution_count": null,
      "metadata": {
        "colab": {
          "base_uri": "https://localhost:8080/"
        },
        "id": "CxTqmWAyVtN1",
        "outputId": "dcbb0b70-5f76-491e-b10c-ef1931cbc8b5"
      },
      "outputs": [
        {
          "output_type": "stream",
          "name": "stdout",
          "text": [
            "4\n"
          ]
        }
      ],
      "source": [
        "x = 12\n",
        "\n",
        "# x += 4\n",
        "# x = x + 4\n",
        "\n",
        "x -= 4\n",
        "x = x - 4\n",
        "\n",
        "# x *= 4\n",
        "# x = x * 4\n",
        " \n",
        "# x /= 4\n",
        "# x = x / 4\n",
        "\n",
        "# x %= 4\n",
        "# x = x % 4\n",
        "\n",
        "# x //= 4\n",
        "# x = x // 4\n",
        "\n",
        "# x **= 4\n",
        "# x = x ** 4\n",
        "\n",
        "print(x)"
      ]
    },
    {
      "cell_type": "markdown",
      "source": [
        "\n",
        "**Identify Operators:**"
      ],
      "metadata": {
        "id": "q7JcZgq9gOhE"
      }
    },
    {
      "cell_type": "code",
      "source": [
        "x = 5\n",
        "y = 1\n",
        "\n",
        "print('x < y is',x<y)\n",
        "\n",
        "print('x > y is',x>y)\n",
        "\n",
        "print('x -- y is',x--y)\n",
        "\n",
        "print('x != y is',x!=y)\n",
        "\n",
        "print('x +- y is',x+-y)\n",
        "\n",
        "print('x <= y is',x<=y)\n",
        "\n",
        "print('x >= y is',x>=y )\n",
        "\n",
        "print('x == y is',x==y )"
      ],
      "metadata": {
        "colab": {
          "base_uri": "https://localhost:8080/"
        },
        "id": "KmEN5y1ggODJ",
        "outputId": "956a6205-86fb-433e-d9d9-b84986d4b0ab"
      },
      "execution_count": null,
      "outputs": [
        {
          "output_type": "stream",
          "name": "stdout",
          "text": [
            "x < y is False\n",
            "x > y is True\n",
            "x -- y is 6\n",
            "x != y is True\n",
            "x +- y is 4\n",
            "x <= y is False\n",
            "x >= y is True\n",
            "x == y is False\n"
          ]
        }
      ]
    },
    {
      "cell_type": "markdown",
      "source": [
        "\n",
        "**Bitwise Operators:**"
      ],
      "metadata": {
        "id": "mZTBGmsIg-wM"
      }
    },
    {
      "cell_type": "code",
      "source": [
        "x = 16\n",
        "\n",
        "# x &= 4\n",
        "# x = x & 4\n",
        "\n",
        "# x |= 4\n",
        "# x = x | 4\n",
        "\n",
        "# x ^= 4\n",
        "# x = x ^ 4\n",
        "\n",
        "# x >>= 4\n",
        "# x = x >> 4\n",
        "\n",
        "x <<= 4\n",
        "# x = x << 4\n",
        "print(x)\n",
        "\n"
      ],
      "metadata": {
        "colab": {
          "base_uri": "https://localhost:8080/"
        },
        "id": "UrMvszeUgNPi",
        "outputId": "5dd442cd-6d60-410a-c4b9-1d3ae0cf534b"
      },
      "execution_count": null,
      "outputs": [
        {
          "output_type": "stream",
          "name": "stdout",
          "text": [
            "256\n"
          ]
        }
      ]
    },
    {
      "cell_type": "markdown",
      "source": [
        "**Comparison Operators:**"
      ],
      "metadata": {
        "id": "peYPE6vEFib6"
      }
    },
    {
      "cell_type": "code",
      "source": [
        "# Shift operators\n",
        "\n",
        "x = 9\n",
        "y = 5\n",
        "\n",
        "# print the bitwise right shift operators\n",
        "print(\"x >> 1 =\", x >> 1)\n",
        "print(\"y >> 1 =\", y >> 1)\n",
        "\n",
        "x = 2\n",
        "y = 3\n",
        "\n",
        "# print bitwise left operators\n",
        "print(\"x << 1 =\", x << 1)\n",
        "print(\"y << 1 =\", y << 1)"
      ],
      "metadata": {
        "colab": {
          "base_uri": "https://localhost:8080/"
        },
        "id": "eIebVnXiFsS9",
        "outputId": "215b1e12-9ffb-4456-d7bd-9f890f3f1f1f"
      },
      "execution_count": null,
      "outputs": [
        {
          "output_type": "stream",
          "name": "stdout",
          "text": [
            "x >> 1 = 4\n",
            "y >> 1 = 2\n",
            "x << 1 = 4\n",
            "y << 1 = 6\n"
          ]
        }
      ]
    },
    {
      "cell_type": "markdown",
      "source": [
        "**Mathematical Operators:**"
      ],
      "metadata": {
        "id": "ACDD-MW5uP3V"
      }
    },
    {
      "cell_type": "code",
      "source": [
        "x = 8\n",
        "y = 6\n",
        "\n",
        "print(\"x-y=\",x-y)\n",
        "\n",
        "print(\"x+y\",x+y)\n",
        "\n",
        "print(\"x/y=\",x/y)\n",
        "\n",
        "print(\"x*y=\",x*y)\n",
        "\n",
        "print(\"x//y=\",x//y)\n",
        "\n",
        "print(\"x**y=\",x**y)"
      ],
      "metadata": {
        "colab": {
          "base_uri": "https://localhost:8080/"
        },
        "id": "KZE8yjiyC8cj",
        "outputId": "55444b75-133a-4768-b55a-da70f6332fa0"
      },
      "execution_count": null,
      "outputs": [
        {
          "output_type": "stream",
          "name": "stdout",
          "text": [
            "x-y= 2\n",
            "x+y 14\n",
            "x/y= 1.3333333333333333\n",
            "x*y= 48\n",
            "x//y= 1\n",
            "x**y= 262144\n"
          ]
        }
      ]
    },
    {
      "cell_type": "markdown",
      "source": [
        "**Logical Operators:**"
      ],
      "metadata": {
        "id": "U4DahhBKIgvB"
      }
    },
    {
      "cell_type": "code",
      "source": [
        "m = True\n",
        "n = False\n",
        "print(\"m and n is\",m and n)\n",
        "print(\"m or n is\",m or n)\n",
        "print(\"not n is\",not n)"
      ],
      "metadata": {
        "colab": {
          "base_uri": "https://localhost:8080/"
        },
        "id": "VxP5_bkNIngz",
        "outputId": "169aafd1-ee16-494b-c73a-8e48bcfc1cb7"
      },
      "execution_count": null,
      "outputs": [
        {
          "output_type": "stream",
          "name": "stdout",
          "text": [
            "m and n is False\n",
            "m or n is True\n",
            "not n is True\n"
          ]
        }
      ]
    },
    {
      "cell_type": "markdown",
      "source": [
        "**Special Operators:**\n",
        "\n",
        "\n",
        "\n",
        "**Identity Operators:**"
      ],
      "metadata": {
        "id": "hya4pVT0J0H3"
      }
    },
    {
      "cell_type": "code",
      "source": [
        "x1 = 2\n",
        "y1 = 3\n",
        "x2 = \"Hi\"\n",
        "y2 = \"Bye\"\n",
        "x3 = [1,2,3]\n",
        "y3 = [1,2,3]\n",
        "\n",
        "print(x1 is not y1)\n",
        "print(x2 is not y2)\n",
        "print(x3 is y3)\n"
      ],
      "metadata": {
        "colab": {
          "base_uri": "https://localhost:8080/"
        },
        "id": "aq-jm53HKUND",
        "outputId": "e296cce2-3530-4576-8a89-dbbce1243e72"
      },
      "execution_count": null,
      "outputs": [
        {
          "output_type": "stream",
          "name": "stdout",
          "text": [
            "True\n",
            "True\n",
            "False\n"
          ]
        }
      ]
    },
    {
      "cell_type": "markdown",
      "source": [
        "**Membership Operators:**"
      ],
      "metadata": {
        "id": "OcdAL1gJNnQZ"
      }
    },
    {
      "cell_type": "code",
      "source": [
        "x =\"Happy\"\n",
        "y ={8:\"u\",7:\"s\"}\n",
        "\n",
        "print(\"m\" in x)\n",
        "print(\"Happy\" in x)\n",
        "print(8 in y)\n",
        "print(5 not in y)"
      ],
      "metadata": {
        "id": "DwaQbsnCNuNy",
        "colab": {
          "base_uri": "https://localhost:8080/"
        },
        "outputId": "40ee83bc-1aa0-4917-f706-649cc7ba0082"
      },
      "execution_count": 2,
      "outputs": [
        {
          "output_type": "stream",
          "name": "stdout",
          "text": [
            "False\n",
            "True\n",
            "True\n",
            "True\n"
          ]
        }
      ]
    }
  ]
}